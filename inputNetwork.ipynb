{
 "cells": [
  {
   "cell_type": "markdown",
   "metadata": {},
   "source": [
    "This file takes in a user-defined class with a certain name. Instantiating the network is simply for testing purposes"
   ]
  },
  {
   "cell_type": "code",
   "execution_count": 77,
   "metadata": {},
   "outputs": [
    {
     "data": {
      "text/plain": [
       "True"
      ]
     },
     "execution_count": 77,
     "metadata": {},
     "output_type": "execute_result"
    }
   ],
   "source": [
    "import importlib.util\n",
    "import os\n",
    "import json\n",
    "from dotenv import load_dotenv\n",
    "import torch\n",
    "import torch.nn as nn\n",
    "import torch.optim as optim\n",
    "import pandas as pd\n",
    "from sklearn.model_selection import train_test_split\n",
    "load_dotenv()"
   ]
  },
  {
   "cell_type": "code",
   "execution_count": 78,
   "metadata": {},
   "outputs": [],
   "source": [
    "class ArchitectureImporter:\n",
    "    def __init__(self, config):\n",
    "        self.config = config\n",
    "        self.net_class = None\n",
    "\n",
    "    # Purpose: This method finds where the class of the Neural Network is defined\n",
    "    # Data: Reads the file path and class name from the config\n",
    "    def import_architecture(self):\n",
    "        # Get the file path and class name from the config\n",
    "        user_file = self.config.get(\"architecture_file\")\n",
    "        user_class_name = self.config.get(\"network_class_name\")\n",
    "\n",
    "        # Check if the provided file path is valid\n",
    "        if not os.path.isfile(user_file):\n",
    "            raise FileNotFoundError(f\"File '{user_file}' does not exist.\")\n",
    "\n",
    "        # Get the file name without extension\n",
    "        module_name = os.path.splitext(os.path.basename(user_file))[0]\n",
    "        spec = importlib.util.spec_from_file_location(module_name, user_file)\n",
    "        module = importlib.util.module_from_spec(spec)\n",
    "        spec.loader.exec_module(module)\n",
    "\n",
    "        if not hasattr(module, user_class_name):\n",
    "            raise AttributeError(f\"The file '{user_file}' does not have a class named '{user_class_name}'.\")\n",
    "\n",
    "        self.net_class = getattr(module, user_class_name)\n",
    "\n",
    "    # Purpose: Allows instantiation of the Network\n",
    "    # Returns: Class inputted by the user\n",
    "    def get_architecture(self):\n",
    "        return self.net_class"
   ]
  },
  {
   "cell_type": "code",
   "execution_count": 79,
   "metadata": {},
   "outputs": [],
   "source": [
    "# # This whole Block of code is all testing\n",
    "\n",
    "# # Load the configuration from the JSON file\n",
    "# config_file_path = os.getenv('CONFIG_FILE_PATH')\n",
    "# print(config_file_path)\n",
    "# with open(config_file_path, \"r\") as f:\n",
    "#     config = json.load(f)\n",
    "\n",
    "# importer = ArchitectureImporter(config)\n",
    "# importer.import_architecture()\n",
    "\n",
    "# nn_class = importer.get_architecture()\n",
    "\n",
    "# # Instantiating the network\n",
    "# nn1 = nn_class()\n",
    "# all_attributes = dir(nn1)\n",
    "# print(all_attributes)"
   ]
  },
  {
   "cell_type": "code",
   "execution_count": 80,
   "metadata": {},
   "outputs": [],
   "source": [
    "\n",
    "# Read data\n",
    "#make constant in future\n",
    "csv_data = pd.read_csv('data/simpleReg.csv')\n",
    "\n",
    "a = csv_data['a'].values.reshape(-1, 1)\n",
    "b = csv_data['b'].values.reshape(-1, 1)\n",
    "y = csv_data['y'].values.reshape(-1, 1)\n",
    "\n",
    "# Convert to Tensors\n",
    "a_tensor = torch.tensor(a, dtype=torch.float32)\n",
    "b_tensor = torch.tensor(b, dtype=torch.float32)\n",
    "y_tensor = torch.tensor(y, dtype=torch.float32)\n",
    "\n",
    "X_tensor = torch.cat((a_tensor, b_tensor), dim=1)\n",
    "\n",
    "# Split data\n",
    "X_train, X_test, y_train, y_test = train_test_split(X_tensor, y_tensor, test_size=0.2, random_state=42)\n"
   ]
  },
  {
   "cell_type": "code",
   "execution_count": 81,
   "metadata": {},
   "outputs": [
    {
     "name": "stdout",
     "output_type": "stream",
     "text": [
      "/Users/simoncole/seniorDesign/Large-Scale-Design-and-Analysis-of-Neural-Networks/config.json\n"
     ]
    }
   ],
   "source": [
    "# Load the configuration from the JSON file\n",
    "config_file_path = os.getenv('CONFIG_FILE_PATH')\n",
    "print(config_file_path)\n",
    "with open(config_file_path, \"r\") as f:\n",
    "    config = json.load(f)\n",
    "\n",
    "# Get the architecture\n",
    "importer = ArchitectureImporter(config)\n",
    "importer.import_architecture()\n",
    "architecture = importer.get_architecture()\n",
    "\n",
    "num_networks = config.get(\"num_networks\")\n",
    "\n",
    "networks = []\n",
    "for i in range(num_networks):\n",
    "    networks.append(architecture())\n",
    "\n"
   ]
  },
  {
   "cell_type": "code",
   "execution_count": 82,
   "metadata": {},
   "outputs": [],
   "source": [
    "def train_network(X_train, y_train, X_test, y_test, network, num_epochs):\n",
    "    \n",
    "    criterion = nn.MSELoss()\n",
    "    optimizer = optim.SGD(network.parameters(), lr = 0.01)\n",
    "    for epoch in range(num_epochs):\n",
    "        # Forward Pass\n",
    "        outputs = network(X_train)\n",
    "        loss = criterion(outputs, y_train)\n",
    "\n",
    "        # Backprop and optimize\n",
    "        optimizer.zero_grad()\n",
    "        loss.backward()\n",
    "        optimizer.step()\n",
    "\n",
    "        #print the loss every 100 epochs\n",
    "        if (epoch+1) % 100 == 0:\n",
    "            # Evaluate on validation set\n",
    "            network.eval()\n",
    "            with torch.no_grad():\n",
    "                test_outputs = network(X_test)\n",
    "                test_loss = criterion(test_outputs, y_test)\n",
    "            network.train()\n",
    "            print(f'Epoch [{epoch+1}/{num_epochs}], Loss: {loss.item():.4f}, Test Loss: {test_loss.item():.4f}')\n",
    "\n"
   ]
  },
  {
   "cell_type": "code",
   "execution_count": 83,
   "metadata": {},
   "outputs": [
    {
     "name": "stdout",
     "output_type": "stream",
     "text": [
      "Epoch [100/1000], Loss: 0.1821, Test Loss: 0.1264\n",
      "Epoch [200/1000], Loss: 0.1364, Test Loss: 0.0994\n",
      "Epoch [300/1000], Loss: 0.1116, Test Loss: 0.0852\n",
      "Epoch [400/1000], Loss: 0.0936, Test Loss: 0.0734\n",
      "Epoch [500/1000], Loss: 0.0794, Test Loss: 0.0636\n",
      "Epoch [600/1000], Loss: 0.0686, Test Loss: 0.0561\n",
      "Epoch [700/1000], Loss: 0.0607, Test Loss: 0.0510\n",
      "Epoch [800/1000], Loss: 0.0549, Test Loss: 0.0476\n",
      "Epoch [900/1000], Loss: 0.0506, Test Loss: 0.0454\n",
      "Epoch [1000/1000], Loss: 0.0472, Test Loss: 0.0437\n",
      "Epoch [100/1000], Loss: 0.2298, Test Loss: 0.2045\n",
      "Epoch [200/1000], Loss: 0.1651, Test Loss: 0.1484\n",
      "Epoch [300/1000], Loss: 0.1191, Test Loss: 0.1080\n",
      "Epoch [400/1000], Loss: 0.0882, Test Loss: 0.0823\n",
      "Epoch [500/1000], Loss: 0.0711, Test Loss: 0.0689\n",
      "Epoch [600/1000], Loss: 0.0621, Test Loss: 0.0624\n",
      "Epoch [700/1000], Loss: 0.0569, Test Loss: 0.0592\n",
      "Epoch [800/1000], Loss: 0.0535, Test Loss: 0.0576\n",
      "Epoch [900/1000], Loss: 0.0512, Test Loss: 0.0569\n",
      "Epoch [1000/1000], Loss: 0.0494, Test Loss: 0.0564\n",
      "Epoch [100/1000], Loss: 0.1124, Test Loss: 0.1031\n",
      "Epoch [200/1000], Loss: 0.0821, Test Loss: 0.0779\n",
      "Epoch [300/1000], Loss: 0.0721, Test Loss: 0.0711\n",
      "Epoch [400/1000], Loss: 0.0668, Test Loss: 0.0674\n",
      "Epoch [500/1000], Loss: 0.0623, Test Loss: 0.0642\n",
      "Epoch [600/1000], Loss: 0.0586, Test Loss: 0.0617\n",
      "Epoch [700/1000], Loss: 0.0558, Test Loss: 0.0605\n",
      "Epoch [800/1000], Loss: 0.0538, Test Loss: 0.0612\n",
      "Epoch [900/1000], Loss: 0.0524, Test Loss: 0.0620\n",
      "Epoch [1000/1000], Loss: 0.0512, Test Loss: 0.0628\n",
      "Epoch [100/1000], Loss: 0.1551, Test Loss: 0.1466\n",
      "Epoch [200/1000], Loss: 0.1257, Test Loss: 0.1171\n",
      "Epoch [300/1000], Loss: 0.1042, Test Loss: 0.0965\n",
      "Epoch [400/1000], Loss: 0.0881, Test Loss: 0.0810\n",
      "Epoch [500/1000], Loss: 0.0761, Test Loss: 0.0697\n",
      "Epoch [600/1000], Loss: 0.0675, Test Loss: 0.0623\n",
      "Epoch [700/1000], Loss: 0.0614, Test Loss: 0.0577\n",
      "Epoch [800/1000], Loss: 0.0570, Test Loss: 0.0550\n",
      "Epoch [900/1000], Loss: 0.0540, Test Loss: 0.0533\n",
      "Epoch [1000/1000], Loss: 0.0517, Test Loss: 0.0523\n",
      "Epoch [100/1000], Loss: 0.1758, Test Loss: 0.1342\n",
      "Epoch [200/1000], Loss: 0.1508, Test Loss: 0.1241\n",
      "Epoch [300/1000], Loss: 0.1330, Test Loss: 0.1148\n",
      "Epoch [400/1000], Loss: 0.1181, Test Loss: 0.1048\n",
      "Epoch [500/1000], Loss: 0.1050, Test Loss: 0.0940\n",
      "Epoch [600/1000], Loss: 0.0930, Test Loss: 0.0826\n",
      "Epoch [700/1000], Loss: 0.0822, Test Loss: 0.0726\n",
      "Epoch [800/1000], Loss: 0.0726, Test Loss: 0.0641\n",
      "Epoch [900/1000], Loss: 0.0651, Test Loss: 0.0577\n",
      "Epoch [1000/1000], Loss: 0.0573, Test Loss: 0.0519\n"
     ]
    }
   ],
   "source": [
    "#train\n",
    "num_epochs = config.get(\"num_epochs\")\n",
    "\n",
    "networks_state_dict = {}\n",
    "for i, network in enumerate(networks):\n",
    "    train_network(X_train, y_train, X_test, y_test, network, num_epochs)\n",
    "    networks_state_dict[f'network_{i}'] = network.state_dict()\n",
    "\n",
    "# Save the state dict as a file\n",
    "output_dir = config.get(\"output_dir\")\n",
    "torch.save(networks_state_dict, f'{output_dir}/trainedNetworks.pt')"
   ]
  }
 ],
 "metadata": {
  "kernelspec": {
   "display_name": "TorchEnv",
   "language": "python",
   "name": "python3"
  },
  "language_info": {
   "codemirror_mode": {
    "name": "ipython",
    "version": 3
   },
   "file_extension": ".py",
   "mimetype": "text/x-python",
   "name": "python",
   "nbconvert_exporter": "python",
   "pygments_lexer": "ipython3",
   "version": "3.8.5"
  }
 },
 "nbformat": 4,
 "nbformat_minor": 2
}
