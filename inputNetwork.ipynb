{
 "cells": [
  {
   "cell_type": "markdown",
   "metadata": {},
   "source": [
    "This file takes in a user-defined class with a certain name. Instantiating the network is simply for testing purposes"
   ]
  },
  {
   "cell_type": "code",
   "execution_count": 63,
   "metadata": {},
   "outputs": [
    {
     "data": {
      "text/plain": [
       "True"
      ]
     },
     "execution_count": 63,
     "metadata": {},
     "output_type": "execute_result"
    }
   ],
   "source": [
    "import importlib.util\n",
    "import os\n",
    "import json\n",
    "from dotenv import load_dotenv\n",
    "import torch\n",
    "import torch.nn as nn\n",
    "import torch.optim as optim\n",
    "import pandas as pd\n",
    "from sklearn.model_selection import train_test_split\n",
    "load_dotenv()"
   ]
  },
  {
   "cell_type": "code",
   "execution_count": 64,
   "metadata": {},
   "outputs": [],
   "source": [
    "class ArchitectureImporter:\n",
    "    def __init__(self, config):\n",
    "        self.config = config\n",
    "        self.net_class = None\n",
    "\n",
    "    # Purpose: This method finds where the class of the Neural Network is defined\n",
    "    # Data: Reads the file path and class name from the config\n",
    "    def import_architecture(self):\n",
    "        # Get the file path and class name from the config\n",
    "        user_file = self.config.get(\"architecture_file\")\n",
    "        user_class_name = self.config.get(\"network_class_name\")\n",
    "\n",
    "        # Check if the provided file path is valid\n",
    "        if not os.path.isfile(user_file):\n",
    "            raise FileNotFoundError(f\"File '{user_file}' does not exist.\")\n",
    "\n",
    "        # Get the file name without extension\n",
    "        module_name = os.path.splitext(os.path.basename(user_file))[0]\n",
    "        spec = importlib.util.spec_from_file_location(module_name, user_file)\n",
    "        module = importlib.util.module_from_spec(spec)\n",
    "        spec.loader.exec_module(module)\n",
    "\n",
    "        if not hasattr(module, user_class_name):\n",
    "            raise AttributeError(f\"The file '{user_file}' does not have a class named '{user_class_name}'.\")\n",
    "\n",
    "        self.net_class = getattr(module, user_class_name)\n",
    "\n",
    "    # Purpose: Allows instantiation of the Network\n",
    "    # Returns: Class inputted by the user\n",
    "    def get_architecture(self):\n",
    "        return self.net_class"
   ]
  },
  {
   "cell_type": "code",
   "execution_count": 65,
   "metadata": {},
   "outputs": [],
   "source": [
    "# # This whole Block of code is all testing\n",
    "\n",
    "# # Load the configuration from the JSON file\n",
    "# config_file_path = os.getenv('CONFIG_FILE_PATH')\n",
    "# print(config_file_path)\n",
    "# with open(config_file_path, \"r\") as f:\n",
    "#     config = json.load(f)\n",
    "\n",
    "# importer = ArchitectureImporter(config)\n",
    "# importer.import_architecture()\n",
    "\n",
    "# nn_class = importer.get_architecture()\n",
    "\n",
    "# # Instantiating the network\n",
    "# nn1 = nn_class()\n",
    "# all_attributes = dir(nn1)\n",
    "# print(all_attributes)"
   ]
  },
  {
   "cell_type": "code",
   "execution_count": 66,
   "metadata": {},
   "outputs": [],
   "source": [
    "\n",
    "# Read data\n",
    "#make constant in future\n",
    "csv_data = pd.read_csv('data/simpleReg.csv')\n",
    "\n",
    "a = csv_data['a'].values.reshape(-1, 1)\n",
    "b = csv_data['b'].values.reshape(-1, 1)\n",
    "y = csv_data['y'].values.reshape(-1, 1)\n",
    "\n",
    "# Convert to Tensors\n",
    "a_tensor = torch.tensor(a, dtype=torch.float32)\n",
    "b_tensor = torch.tensor(b, dtype=torch.float32)\n",
    "y_tensor = torch.tensor(y, dtype=torch.float32)\n",
    "\n",
    "X_tensor = torch.cat((a_tensor, b_tensor), dim=1)\n",
    "\n",
    "# Split data\n",
    "X_train, X_test, y_train, y_test = train_test_split(X_tensor, y_tensor, test_size=0.2, random_state=42)\n"
   ]
  },
  {
   "cell_type": "code",
   "execution_count": 67,
   "metadata": {},
   "outputs": [
    {
     "name": "stdout",
     "output_type": "stream",
     "text": [
      "/Users/simoncole/seniorDesign/Large-Scale-Design-and-Analysis-of-Neural-Networks/config.json\n"
     ]
    }
   ],
   "source": [
    "# Load the configuration from the JSON file\n",
    "config_file_path = os.getenv('CONFIG_FILE_PATH')\n",
    "print(config_file_path)\n",
    "with open(config_file_path, \"r\") as f:\n",
    "    config = json.load(f)\n",
    "\n",
    "# Get the architecture\n",
    "importer = ArchitectureImporter(config)\n",
    "importer.import_architecture()\n",
    "architecture = importer.get_architecture()\n",
    "\n",
    "num_networks = config.get(\"num_networks\")\n",
    "\n",
    "networks = []\n",
    "for i in range(num_networks):\n",
    "    networks.append(architecture())\n",
    "\n"
   ]
  },
  {
   "cell_type": "code",
   "execution_count": 68,
   "metadata": {},
   "outputs": [],
   "source": [
    "def train_network(X_train, y_train, X_test, y_test, network, num_epochs):\n",
    "    \n",
    "    criterion = nn.MSELoss()\n",
    "    optimizer = optim.SGD(network.parameters(), lr = 0.01)\n",
    "    for epoch in range(num_epochs):\n",
    "        # Forward Pass\n",
    "        outputs = network(X_train)\n",
    "        loss = criterion(outputs, y_train)\n",
    "\n",
    "        # Backprop and optimize\n",
    "        optimizer.zero_grad()\n",
    "        loss.backward()\n",
    "        optimizer.step()\n",
    "\n",
    "        #print the loss every 100 epochs\n",
    "        if (epoch+1) % 100 == 0:\n",
    "            # Evaluate on validation set\n",
    "            network.eval()\n",
    "            with torch.no_grad():\n",
    "                test_outputs = network(X_test)\n",
    "                test_loss = criterion(test_outputs, y_test)\n",
    "            network.train()\n",
    "            print(f'Epoch [{epoch+1}/{num_epochs}], Loss: {loss.item():.4f}, Test Loss: {test_loss.item():.4f}')\n",
    "\n"
   ]
  },
  {
   "cell_type": "code",
   "execution_count": 69,
   "metadata": {},
   "outputs": [
    {
     "name": "stdout",
     "output_type": "stream",
     "text": [
      "Epoch [100/1000], Loss: 0.1440, Test Loss: 0.1357\n",
      "Epoch [200/1000], Loss: 0.1034, Test Loss: 0.1040\n",
      "Epoch [300/1000], Loss: 0.0830, Test Loss: 0.0853\n",
      "Epoch [400/1000], Loss: 0.0713, Test Loss: 0.0746\n",
      "Epoch [500/1000], Loss: 0.0643, Test Loss: 0.0690\n",
      "Epoch [600/1000], Loss: 0.0601, Test Loss: 0.0662\n",
      "Epoch [700/1000], Loss: 0.0574, Test Loss: 0.0651\n",
      "Epoch [800/1000], Loss: 0.0556, Test Loss: 0.0648\n",
      "Epoch [900/1000], Loss: 0.0543, Test Loss: 0.0643\n",
      "Epoch [1000/1000], Loss: 0.0533, Test Loss: 0.0641\n",
      "Epoch [100/1000], Loss: 0.2107, Test Loss: 0.1650\n",
      "Epoch [200/1000], Loss: 0.1689, Test Loss: 0.1381\n",
      "Epoch [300/1000], Loss: 0.1427, Test Loss: 0.1157\n",
      "Epoch [400/1000], Loss: 0.1213, Test Loss: 0.0945\n",
      "Epoch [500/1000], Loss: 0.1021, Test Loss: 0.0764\n",
      "Epoch [600/1000], Loss: 0.0844, Test Loss: 0.0633\n",
      "Epoch [700/1000], Loss: 0.0704, Test Loss: 0.0552\n",
      "Epoch [800/1000], Loss: 0.0601, Test Loss: 0.0516\n",
      "Epoch [900/1000], Loss: 0.0534, Test Loss: 0.0498\n",
      "Epoch [1000/1000], Loss: 0.0497, Test Loss: 0.0486\n",
      "Epoch [100/1000], Loss: 0.1466, Test Loss: 0.1167\n",
      "Epoch [200/1000], Loss: 0.1249, Test Loss: 0.1049\n",
      "Epoch [300/1000], Loss: 0.1079, Test Loss: 0.0941\n",
      "Epoch [400/1000], Loss: 0.0936, Test Loss: 0.0850\n",
      "Epoch [500/1000], Loss: 0.0821, Test Loss: 0.0779\n",
      "Epoch [600/1000], Loss: 0.0733, Test Loss: 0.0725\n",
      "Epoch [700/1000], Loss: 0.0668, Test Loss: 0.0688\n",
      "Epoch [800/1000], Loss: 0.0625, Test Loss: 0.0662\n",
      "Epoch [900/1000], Loss: 0.0596, Test Loss: 0.0647\n",
      "Epoch [1000/1000], Loss: 0.0574, Test Loss: 0.0635\n",
      "Epoch [100/1000], Loss: 0.1512, Test Loss: 0.1150\n",
      "Epoch [200/1000], Loss: 0.1343, Test Loss: 0.1071\n",
      "Epoch [300/1000], Loss: 0.1191, Test Loss: 0.1012\n",
      "Epoch [400/1000], Loss: 0.1042, Test Loss: 0.0940\n",
      "Epoch [500/1000], Loss: 0.0908, Test Loss: 0.0861\n",
      "Epoch [600/1000], Loss: 0.0788, Test Loss: 0.0781\n",
      "Epoch [700/1000], Loss: 0.0687, Test Loss: 0.0707\n",
      "Epoch [800/1000], Loss: 0.0598, Test Loss: 0.0638\n",
      "Epoch [900/1000], Loss: 0.0527, Test Loss: 0.0579\n",
      "Epoch [1000/1000], Loss: 0.0475, Test Loss: 0.0537\n",
      "Epoch [100/1000], Loss: 0.1475, Test Loss: 0.1137\n",
      "Epoch [200/1000], Loss: 0.1230, Test Loss: 0.1027\n",
      "Epoch [300/1000], Loss: 0.1039, Test Loss: 0.0917\n",
      "Epoch [400/1000], Loss: 0.0890, Test Loss: 0.0824\n",
      "Epoch [500/1000], Loss: 0.0781, Test Loss: 0.0755\n",
      "Epoch [600/1000], Loss: 0.0703, Test Loss: 0.0710\n",
      "Epoch [700/1000], Loss: 0.0648, Test Loss: 0.0682\n",
      "Epoch [800/1000], Loss: 0.0610, Test Loss: 0.0666\n",
      "Epoch [900/1000], Loss: 0.0584, Test Loss: 0.0664\n",
      "Epoch [1000/1000], Loss: 0.0564, Test Loss: 0.0665\n"
     ]
    }
   ],
   "source": [
    "#train\n",
    "num_epochs = config.get(\"num_epochs\")\n",
    "\n",
    "networks_state_dict = {}\n",
    "for i, network in enumerate(networks):\n",
    "    train_network(X_train, y_train, X_test, y_test, network, num_epochs)\n",
    "    networks_state_dict[f'network_{i}'] = network.state_dict()\n",
    "\n",
    "# Save the state dict as a file\n",
    "output_dir = config.get(\"output_dir\")\n",
    "torch.save(networks_state_dict, f'{output_dir}/trainedNetworks.pt')"
   ]
  }
 ],
 "metadata": {
  "kernelspec": {
   "display_name": "TorchEnv",
   "language": "python",
   "name": "python3"
  },
  "language_info": {
   "codemirror_mode": {
    "name": "ipython",
    "version": 3
   },
   "file_extension": ".py",
   "mimetype": "text/x-python",
   "name": "python",
   "nbconvert_exporter": "python",
   "pygments_lexer": "ipython3",
   "version": "3.8.5"
  }
 },
 "nbformat": 4,
 "nbformat_minor": 2
}
