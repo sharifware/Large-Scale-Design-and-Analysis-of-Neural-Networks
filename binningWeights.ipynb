{
 "cells": [
  {
   "cell_type": "code",
   "execution_count": 130,
   "metadata": {},
   "outputs": [
    {
     "data": {
      "text/plain": [
       "True"
      ]
     },
     "execution_count": 130,
     "metadata": {},
     "output_type": "execute_result"
    }
   ],
   "source": [
    "import importlib.util\n",
    "import os\n",
    "import json\n",
    "from dotenv import load_dotenv\n",
    "import torch\n",
    "import torch.nn as nn\n",
    "import torch.optim as optim\n",
    "import pandas as pd\n",
    "import numpy as np\n",
    "import matplotlib.pyplot as plt\n",
    "from sklearn.model_selection import train_test_split\n",
    "from simpleRegArchitecture import SimpleNet\n",
    "\n",
    "load_dotenv() "
   ]
  },
  {
   "cell_type": "code",
   "execution_count": 131,
   "metadata": {},
   "outputs": [
    {
     "name": "stdout",
     "output_type": "stream",
     "text": [
      "/Users/simoncole/seniorDesign/Large-Scale-Design-and-Analysis-of-Neural-Networks/config.json\n"
     ]
    }
   ],
   "source": [
    "NUM_BINS = 5\n",
    "\n",
    "config_file_path = os.getenv('CONFIG_FILE_PATH')\n",
    "print(config_file_path)\n",
    "with open(config_file_path, \"r\") as f:\n",
    "    config = json.load(f)\n",
    "\n",
    "#Load in the networks\n",
    "output_dir = config.get(\"output_dir\")\n",
    "loaded_state_dict = torch.load(f'{output_dir}/trainedNetworks.pt')\n",
    "\n",
    "#create new instantiations to contain the saved networks\n",
    "num_networks = config.get(\"num_networks\")\n",
    "networks = []\n",
    "for n in range(num_networks):\n",
    "    networks.append(SimpleNet())\n",
    "\n",
    "for i, network in enumerate(networks):\n",
    "    state_dict_key = f'network_{i}'\n",
    "    network.load_state_dict(loaded_state_dict[state_dict_key])\n",
    "\n",
    "\n"
   ]
  },
  {
   "cell_type": "code",
   "execution_count": 132,
   "metadata": {},
   "outputs": [
    {
     "name": "stdout",
     "output_type": "stream",
     "text": [
      "-1.0972892509231567\n",
      "1.0222512946853637\n"
     ]
    }
   ],
   "source": [
    "def getMinOrMax(networks, getMin):\n",
    "    \"\"\"\n",
    "    Parameters:\n",
    "    - networks: an array of trained pytorch networks where the layers are nn.Linear\n",
    "    - getMin: a boolean indicating wheter to get the min or max\n",
    "    Outputs: the minimum or maximum weight in some array of neural networks\n",
    "    \"\"\"\n",
    "    weights = []\n",
    "    for network in networks:\n",
    "        for layer in network.children():\n",
    "            if isinstance(layer, nn.Linear):\n",
    "                #.cpu moves the tensor from the gpu to cpu if it is there in order to use .numpy()\n",
    "                layer_weights = layer.weight.data.cpu().numpy().flatten()\n",
    "                weights.extend(layer_weights)\n",
    "    if getMin:\n",
    "        return min(weights) - 1e-6 #small adjustment to account for floating point rounding error, issue occured with getting the upper bound of the max bin\n",
    "    else:\n",
    "        return max(weights) + 1e-6\n",
    "\n",
    "min_weight = getMinOrMax(networks, True)\n",
    "max_weight = getMinOrMax(networks, False)\n",
    "print(min_weight)\n",
    "print(max_weight)\n"
   ]
  },
  {
   "cell_type": "code",
   "execution_count": 133,
   "metadata": {},
   "outputs": [
    {
     "name": "stdout",
     "output_type": "stream",
     "text": [
      "[-1.09728925 -0.67338114 -0.24947303  0.17443508  0.59834319  1.02225129]\n",
      "-0.34732863\n"
     ]
    }
   ],
   "source": [
    "layer_weight_distributions = []\n",
    "layer_bin_ranges = []\n",
    "network_fc_indices = []\n",
    "#for each fully connected layer, create matrix of shape (N, M, B) where\n",
    "#N = num neurons in layer\n",
    "#M = num neurons in previous layer\n",
    "#B = number of bins\n",
    "#generate an array of bin edges based on min and max of the first network(for now)\n",
    "    \n",
    "layers = networks[0].children()\n",
    "for index, layer in enumerate(layers):\n",
    "    if isinstance(layer, nn.Linear):\n",
    "        #for each layer make an array of shape (num of neurons in layer, num of inputs to layer, num of bins)\n",
    "        network_fc_indices.append(index)\n",
    "        layer_shape = layer.weight.shape\n",
    "        layer_weight_distributions.append(np.zeros((NUM_BINS,) + layer_shape, dtype=int))\n",
    "        #TODO: get clarity as to whether min and max should be for each layer or for entire network\n",
    "        #subtract 1 to make 0-indexed\n",
    "        bin_edges = np.histogram_bin_edges(a=[], bins=(NUM_BINS), range=(min_weight, max_weight))\n",
    "        layer_bin_ranges.append(bin_edges)\n",
    "        \n",
    "#Generate for each layer a matrix of network, row, column matrix\n",
    "network_weights = []\n",
    "for index, layer_index in enumerate(network_fc_indices):\n",
    "    network_weights_per_layer = []\n",
    "    for network in networks:\n",
    "        net_layers = list(network.children())\n",
    "        network_weights_per_layer.append(net_layers[layer_index].weight.data.numpy())\n",
    "    network_weights.append(network_weights_per_layer)\n",
    "\n",
    "# print(layer_weight_distributions)\n",
    "print(layer_bin_ranges[0])\n",
    "#print the first weight of the first fully connected layer of the first network\n",
    "print(network_weights[0][0][0][0])"
   ]
  },
  {
   "cell_type": "code",
   "execution_count": 134,
   "metadata": {},
   "outputs": [
    {
     "name": "stdout",
     "output_type": "stream",
     "text": [
      "[array([[[ 73,  27],\n",
      "        [ 88,  26],\n",
      "        [ 86,  38],\n",
      "        [ 83,  30],\n",
      "        [103,  20],\n",
      "        [ 79,  23],\n",
      "        [101,  31],\n",
      "        [ 81,  33],\n",
      "        [105,  31],\n",
      "        [ 81,  38]],\n",
      "\n",
      "       [[253, 272],\n",
      "        [244, 296],\n",
      "        [248, 293],\n",
      "        [239, 320],\n",
      "        [270, 281],\n",
      "        [233, 275],\n",
      "        [234, 305],\n",
      "        [269, 264],\n",
      "        [236, 282],\n",
      "        [251, 293]],\n",
      "\n",
      "       [[281, 348],\n",
      "        [277, 352],\n",
      "        [301, 349],\n",
      "        [279, 301],\n",
      "        [275, 324],\n",
      "        [288, 354],\n",
      "        [291, 306],\n",
      "        [289, 336],\n",
      "        [293, 316],\n",
      "        [292, 325]],\n",
      "\n",
      "       [[226, 251],\n",
      "        [225, 259],\n",
      "        [223, 244],\n",
      "        [234, 265],\n",
      "        [224, 284],\n",
      "        [236, 278],\n",
      "        [231, 272],\n",
      "        [213, 283],\n",
      "        [234, 301],\n",
      "        [228, 271]],\n",
      "\n",
      "       [[167, 102],\n",
      "        [166,  67],\n",
      "        [142,  76],\n",
      "        [165,  84],\n",
      "        [128,  91],\n",
      "        [164,  70],\n",
      "        [143,  86],\n",
      "        [148,  84],\n",
      "        [132,  70],\n",
      "        [148,  73]]]), array([[[  0,   0,   0,   0,   0,   0,   1,   0,   0,   0]],\n",
      "\n",
      "       [[ 72,  97,  91,  89,  87,  78,  98, 114,  96,  95]],\n",
      "\n",
      "       [[450, 421, 433, 448, 443, 446, 421, 427, 448, 416]],\n",
      "\n",
      "       [[446, 436, 437, 417, 435, 442, 443, 414, 422, 444]],\n",
      "\n",
      "       [[ 32,  46,  39,  46,  35,  34,  37,  45,  34,  45]]])]\n"
     ]
    }
   ],
   "source": [
    "#iterating over each layer\n",
    "for layer_num, layer_distribution in enumerate(layer_weight_distributions):\n",
    "    #iterate over all the weights in a layer and increment their corresponding index in the bin ranges to the 3D array \n",
    "    #select the first bin for iteration, could select any\n",
    "    for i, row in enumerate(layer_distribution[0]):\n",
    "        for j, weight_count in enumerate(row):\n",
    "            #get the matching bin for the value of the weight\n",
    "            #for this weight position, iterate over each network and select the layer you're already in\n",
    "            #then get the bin for that weight and increment the corresponding bin and position\n",
    "            for network in network_weights[layer_num]:\n",
    "                #includes the left bin edge and excludes the right\n",
    "                weight = network[i][j]\n",
    "                #subtract 1 to 0 index\n",
    "                corresponding_bin = np.digitize(weight, layer_bin_ranges[layer_num], right=False) - 1\n",
    "                if corresponding_bin >= 5 or corresponding_bin <= -1:\n",
    "                    print(weight)\n",
    "                    print(corresponding_bin)\n",
    "                layer_weight_distributions[layer_num][corresponding_bin][i][j] += 1\n",
    "\n",
    "print(layer_weight_distributions)"
   ]
  },
  {
   "cell_type": "code",
   "execution_count": 154,
   "metadata": {},
   "outputs": [
    {
     "data": {
      "image/png": "[encoded data removed]",
      "text/plain": [
       "<Figure size 576x432 with 1 Axes>"
      ]
     },
     "metadata": {
      "needs_background": "light"
     },
     "output_type": "display_data"
    }
   ],
   "source": [
    "def plot_weight_bins(weight_distributions, layer, weight_position):\n",
    "    \"\"\"\n",
    "    Parameters:\n",
    "    - weight_distributions: weight counts in the form (layer, bin, i, j) where i and j represent the postion of the weight\n",
    "    - layer: Index of the layer to plot (0-indexed).\n",
    "    - weight_position: Tuple indicating the row and column of the weight in the layer.\n",
    "    \"\"\"\n",
    "    weight_distribution = weight_distributions[layer][:, weight_position[0], weight_position[1]]\n",
    "    \n",
    "    num_bins = len(weight_distribution)\n",
    "    \n",
    "    plt.figure(figsize=(8, 6))\n",
    "    plt.bar(range(num_bins), weight_distribution, width=0.8, align='center', edgecolor='black')\n",
    "    plt.xlabel('Bin Index')\n",
    "    plt.ylabel('Count')\n",
    "    plt.title(f'Weight Histogram for Layer {layer}, Position {weight_position}')\n",
    "    plt.xticks(range(num_bins))  # Set x-ticks to match bin indices\n",
    "    plt.grid(axis='y', linestyle='--', alpha=0.7)\n",
    "    plt.show()\n",
    "\n",
    "# print(layer_weight_distributions[1][:, 0])\n",
    "# print(layer_weight_distributions[1][:, 0, 0])\n",
    "# plot_weight_bins(layer_weight_distributions, layer=0, weight_position=(1, 0))\n",
    "# neuron 10 in layer 1 coming from input neuron 2\n",
    "plot_weight_bins(layer_weight_distributions, layer=1, weight_position=(0, 9))\n"
   ]
  }
 ],
 "metadata": {
  "kernelspec": {
   "display_name": "Python 3",
   "language": "python",
   "name": "python3"
  },
  "language_info": {
   "codemirror_mode": {
    "name": "ipython",
    "version": 3
   },
   "file_extension": ".py",
   "mimetype": "text/x-python",
   "name": "python",
   "nbconvert_exporter": "python",
   "pygments_lexer": "ipython3",
   "version": "3.8.5"
  }
 },
 "nbformat": 4,
 "nbformat_minor": 2
}
