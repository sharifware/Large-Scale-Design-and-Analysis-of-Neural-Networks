{
 "cells": [
  {
   "cell_type": "code",
   "execution_count": 341,
   "metadata": {},
   "outputs": [
    {
     "data": {
      "text/plain": [
       "False"
      ]
     },
     "execution_count": 341,
     "metadata": {},
     "output_type": "execute_result"
    }
   ],
   "source": [
    "import importlib.util\n",
    "import os\n",
    "import json\n",
    "from dotenv import load_dotenv\n",
    "import torch\n",
    "import torch.nn as nn\n",
    "import torch.optim as optim\n",
    "import pandas as pd\n",
    "import numpy as np\n",
    "import matplotlib.pyplot as plt\n",
    "from sklearn.model_selection import train_test_split\n",
    "from simpleRegArchitecture import SimpleNet\n",
    "\n",
    "load_dotenv() "
   ]
  },
  {
   "cell_type": "code",
   "execution_count": 342,
   "metadata": {},
   "outputs": [
    {
     "name": "stdout",
     "output_type": "stream",
     "text": [
      "/Users/simoncole/seniorDesign/Large-Scale-Design-and-Analysis-of-Neural-Networks/config.json\n"
     ]
    }
   ],
   "source": [
    "NUM_BINS = 5\n",
    "\n",
    "config_file_path = os.getenv('CONFIG_FILE_PATH')\n",
    "print(config_file_path)\n",
    "with open(config_file_path, \"r\") as f:\n",
    "    config = json.load(f)\n",
    "\n",
    "#Load in the networks\n",
    "output_dir = config.get(\"output_dir\")\n",
    "loaded_state_dict = torch.load(f'{output_dir}/trainedNetworks.pt')\n",
    "\n",
    "#create new instantiations to contain the saved networks\n",
    "num_networks = config.get(\"num_networks\")\n",
    "networks = []\n",
    "for n in range(num_networks):\n",
    "    networks.append(SimpleNet())\n",
    "\n",
    "for i, network in enumerate(networks):\n",
    "    state_dict_key = f'network_{i}'\n",
    "    network.load_state_dict(loaded_state_dict[state_dict_key])\n",
    "\n",
    "\n"
   ]
  },
  {
   "cell_type": "code",
   "execution_count": 343,
   "metadata": {},
   "outputs": [
    {
     "name": "stdout",
     "output_type": "stream",
     "text": [
      "[[-0.20631538  0.73702973]\n",
      " [-0.47195265 -0.02429558]\n",
      " [ 0.07377665  0.01942262]\n",
      " [ 0.17985338 -0.24177411]\n",
      " [-0.56040883  0.49711204]\n",
      " [-0.7684532   0.01243034]\n",
      " [ 0.3990102   0.44647178]\n",
      " [-0.44980973 -0.07642356]\n",
      " [ 0.04446951 -0.5782668 ]\n",
      " [ 0.9490659  -0.40909216]]\n"
     ]
    }
   ],
   "source": [
    "layer_weight_distributions = []\n",
    "layer_bin_ranges = []\n",
    "network_fc_indices = []\n",
    "#for each fully connected layer, create matrix of shape (N, M, B) where\n",
    "#N = num neurons in layer\n",
    "#M = num neurons in previous layer\n",
    "#B = number of bins\n",
    "#generate an array of bin edges based on min and max of the first network(for now)\n",
    "layers = networks[0].children()\n",
    "for index, layer in enumerate(layers):\n",
    "    if isinstance(layer, nn.Linear):\n",
    "        #for each layer make an array of shape (num of neurons in layer, num of inputs to layer, num of bins)\n",
    "        network_fc_indices.append(index)\n",
    "        layer_shape = layer.weight.shape\n",
    "        layer_weight_distributions.append(np.zeros((NUM_BINS,) + layer_shape, dtype=int))\n",
    "        #TODO: change to get the true min and max of all networks not just from the first network\n",
    "        layer_bin_ranges.append(np.histogram_bin_edges(layer.weight.data.numpy().flatten(), bins=(NUM_BINS)))\n",
    "        \n",
    "#Generate for each layer a matrix of network, row, column matrix\n",
    "network_weights = []\n",
    "for index, layer_index in enumerate(network_fc_indices):\n",
    "    network_weights_per_layer = []\n",
    "    for network in networks:\n",
    "        net_layers = list(network.children())\n",
    "        network_weights_per_layer.append(net_layers[layer_index].weight.data.numpy())\n",
    "    network_weights.append(network_weights_per_layer)\n",
    "\n",
    "print(network_weights[0][0])"
   ]
  },
  {
   "cell_type": "code",
   "execution_count": 344,
   "metadata": {},
   "outputs": [
    {
     "name": "stdout",
     "output_type": "stream",
     "text": [
      "[array([[[5, 4],\n",
      "        [4, 5],\n",
      "        [5, 4],\n",
      "        [4, 4],\n",
      "        [4, 4],\n",
      "        [3, 4],\n",
      "        [4, 4],\n",
      "        [2, 4],\n",
      "        [4, 3],\n",
      "        [4, 5]],\n",
      "\n",
      "       [[0, 1],\n",
      "        [1, 0],\n",
      "        [0, 1],\n",
      "        [1, 1],\n",
      "        [1, 1],\n",
      "        [2, 1],\n",
      "        [1, 1],\n",
      "        [3, 1],\n",
      "        [1, 2],\n",
      "        [1, 0]],\n",
      "\n",
      "       [[0, 0],\n",
      "        [0, 0],\n",
      "        [0, 0],\n",
      "        [0, 0],\n",
      "        [0, 0],\n",
      "        [0, 0],\n",
      "        [0, 0],\n",
      "        [0, 0],\n",
      "        [0, 0],\n",
      "        [0, 0]],\n",
      "\n",
      "       [[0, 0],\n",
      "        [0, 0],\n",
      "        [0, 0],\n",
      "        [0, 0],\n",
      "        [0, 0],\n",
      "        [0, 0],\n",
      "        [0, 0],\n",
      "        [0, 0],\n",
      "        [0, 0],\n",
      "        [0, 0]],\n",
      "\n",
      "       [[0, 0],\n",
      "        [0, 0],\n",
      "        [0, 0],\n",
      "        [0, 0],\n",
      "        [0, 0],\n",
      "        [0, 0],\n",
      "        [0, 0],\n",
      "        [0, 0],\n",
      "        [0, 0],\n",
      "        [0, 0]]]), array([[[4, 5, 5, 5, 5, 4, 5, 5, 5, 4]],\n",
      "\n",
      "       [[1, 0, 0, 0, 0, 1, 0, 0, 0, 1]],\n",
      "\n",
      "       [[0, 0, 0, 0, 0, 0, 0, 0, 0, 0]],\n",
      "\n",
      "       [[0, 0, 0, 0, 0, 0, 0, 0, 0, 0]],\n",
      "\n",
      "       [[0, 0, 0, 0, 0, 0, 0, 0, 0, 0]]])]\n"
     ]
    }
   ],
   "source": [
    "#iterating over each layer\n",
    "for layer_num, layer_distribution in enumerate(layer_weight_distributions):\n",
    "    #iterate over all the weights in a layer and increment their corresponding index in the bin ranges to the 3D array \n",
    "    #select the first bin for iteration, could select any\n",
    "    for i, row in enumerate(layer_distribution[0]):\n",
    "        for j, weight_count in enumerate(row):\n",
    "            #get the matching bin for the value of the weight\n",
    "            #for this weight position, iterate over each network and select the layer you're already in\n",
    "            #then get the bin for that weight and increment the corresponding bin and position\n",
    "            for network in network_weights[layer_num]:\n",
    "                #includes the left bin edge and excludes the right\n",
    "                weight = network[i][j]\n",
    "                corresponding_bin = np.digitize(weight, layer_bin_ranges[layer_num], right=False)\n",
    "                #in the case the weight is > or < than the min max of the first network (will chnage)\n",
    "                if weight < layer_bin_ranges[layer_num][0]:\n",
    "                    corresponding_bin = 0\n",
    "                elif weight > layer_bin_ranges[layer_num][len(layer_bin_ranges) - 1]:\n",
    "                    corresponding_bin = len(layer_bin_ranges) - 2\n",
    "                \n",
    "                layer_weight_distributions[layer_num][corresponding_bin][i][j] += 1\n",
    "\n",
    "print(layer_weight_distributions)"
   ]
  }
 ],
 "metadata": {
  "kernelspec": {
   "display_name": "Python 3",
   "language": "python",
   "name": "python3"
  },
  "language_info": {
   "codemirror_mode": {
    "name": "ipython",
    "version": 3
   },
   "file_extension": ".py",
   "mimetype": "text/x-python",
   "name": "python",
   "nbconvert_exporter": "python",
   "pygments_lexer": "ipython3",
   "version": "3.8.5"
  }
 },
 "nbformat": 4,
 "nbformat_minor": 2
}
