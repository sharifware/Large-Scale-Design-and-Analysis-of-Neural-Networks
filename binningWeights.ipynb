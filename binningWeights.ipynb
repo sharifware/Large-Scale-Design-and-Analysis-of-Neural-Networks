{
 "cells": [
  {
   "cell_type": "code",
   "execution_count": 91,
   "metadata": {},
   "outputs": [
    {
     "data": {
      "text/plain": [
       "True"
      ]
     },
     "execution_count": 91,
     "metadata": {},
     "output_type": "execute_result"
    }
   ],
   "source": [
    "import importlib.util\n",
    "import os\n",
    "import json\n",
    "from dotenv import load_dotenv\n",
    "import torch\n",
    "import torch.nn as nn\n",
    "import torch.optim as optim\n",
    "import pandas as pd\n",
    "import numpy as np\n",
    "import matplotlib.pyplot as plt\n",
    "from sklearn.model_selection import train_test_split\n",
    "from simpleRegArchitecture import SimpleNet\n",
    "\n",
    "load_dotenv() "
   ]
  },
  {
   "cell_type": "code",
   "execution_count": 92,
   "metadata": {},
   "outputs": [
    {
     "name": "stdout",
     "output_type": "stream",
     "text": [
      "/Users/simoncole/seniorDesign/Large-Scale-Design-and-Analysis-of-Neural-Networks/config.json\n"
     ]
    }
   ],
   "source": [
    "\n",
    "\n",
    "config_file_path = os.getenv('CONFIG_FILE_PATH')\n",
    "print(config_file_path)\n",
    "with open(config_file_path, \"r\") as f:\n",
    "    config = json.load(f)\n",
    "\n",
    "#Load in the networks\n",
    "output_dir = config.get(\"output_dir\")\n",
    "loaded_state_dict = torch.load(f'{output_dir}/trainedNetworks.pt')\n",
    "\n",
    "#create new instantiations to contain the saved networks\n",
    "num_networks = config.get(\"num_networks\")\n",
    "networks = []\n",
    "for n in range(num_networks):\n",
    "    networks.append(SimpleNet())\n",
    "\n",
    "for i, network in enumerate(networks):\n",
    "    state_dict_key = f'network_{i}'\n",
    "    network.load_state_dict(loaded_state_dict[state_dict_key])\n",
    "\n",
    "\n"
   ]
  },
  {
   "cell_type": "code",
   "execution_count": 93,
   "metadata": {},
   "outputs": [],
   "source": [
    "#input \n",
    "#weights: a 1D numpy array of all the weights to be analyzed\n",
    "#num_bins: the number of equal size bins to be generated\n",
    "#returns\n",
    "#\n",
    "def generate_bins(weights, num_bins):\n",
    "    min_val = min(weights)\n",
    "    max_val = max(weights)\n",
    "\n",
    "    bin_boundaries = np.linspace(min_val, max_val, num_bins + 1)\n",
    "    bins = list(zip(bin_boundaries[:-1], bin_boundaries[1:]))\n",
    "    return bins\n",
    "\n",
    "def populate_bins(weights, bins):\n",
    "    min_val = min(weights)\n",
    "    max_val = max(weights)\n",
    "    num_bins = len(bins)\n",
    "    resolution = (max_val - min_val) / num_bins\n",
    "\n",
    "    bin_counts = np.zeros(num_bins, dtype=int)\n",
    "\n",
    "    for weight in weights:\n",
    "        bin_index = int((weight - min_val) / resolution)\n",
    "\n",
    "        #edge case for max val\n",
    "        if bin_index == num_bins:\n",
    "            bin_index = num_bins - 1\n",
    "        \n",
    "        bin_counts[bin_index] += 1\n",
    "    \n",
    "    return bin_counts"
   ]
  },
  {
   "cell_type": "code",
   "execution_count": 94,
   "metadata": {},
   "outputs": [
    {
     "name": "stdout",
     "output_type": "stream",
     "text": [
      "[(-0.8101912140846252, -0.6342655003070832), (-0.6342655003070832, -0.458339786529541), (-0.458339786529541, -0.2824140727519988), (-0.2824140727519988, -0.10648835897445674), (-0.10648835897445674, 0.06943735480308533), (0.06943735480308533, 0.24536306858062762), (0.24536306858062762, 0.4212887823581697), (0.4212887823581697, 0.5972144961357118), (0.5972144961357118, 0.7731402099132538), (0.7731402099132538, 0.9490659236907959)]\n",
      "[ 8 11 14 10 15 11 10 11  7  3]\n"
     ]
    }
   ],
   "source": [
    "\n",
    "all_weights = []\n",
    "for network in networks:\n",
    "    weights_np = network.fc1.weight.data.numpy().flatten()\n",
    "    all_weights = np.concatenate((all_weights, weights_np))\n",
    "\n",
    "bins = generate_bins(all_weights, 10)\n",
    "bin_counts = populate_bins(all_weights, bins)\n",
    "\n",
    "print(bins)\n",
    "print(bin_counts)"
   ]
  },
  {
   "cell_type": "code",
   "execution_count": 95,
   "metadata": {},
   "outputs": [
    {
     "name": "stdout",
     "output_type": "stream",
     "text": [
      "[-0.7222283571958542, -0.546302643418312, -0.3703769296407699, -0.19445121586322778, -0.018525502085685708, 0.15740021169185647, 0.33332592546939865, 0.5092516392469407, 0.6851773530244828, 0.8611030668020249]\n"
     ]
    },
    {
     "data": {
      "image/png": "[encoded data removed]",
      "text/plain": [
       "<Figure size 432x288 with 1 Axes>"
      ]
     },
     "metadata": {
      "needs_background": "light"
     },
     "output_type": "display_data"
    }
   ],
   "source": [
    "#Visualize\n",
    "\n",
    "# Calculate bin centers for plotting\n",
    "bin_centers = []\n",
    "resolution = bins[0][1] - bins[0][0]\n",
    "for b in bins:\n",
    "    bin_centers.append(((b[1] - b[0]) / 2) + b[0])\n",
    "print(bin_centers)\n",
    "plt.bar(bin_centers, bin_counts, width=resolution, edgecolor='k')\n",
    "plt.xlabel('Weight Value')\n",
    "plt.ylabel('Frequency')\n",
    "plt.title('Weight Distribution of L1')\n",
    "plt.show()"
   ]
  }
 ],
 "metadata": {
  "kernelspec": {
   "display_name": "Python 3",
   "language": "python",
   "name": "python3"
  },
  "language_info": {
   "codemirror_mode": {
    "name": "ipython",
    "version": 3
   },
   "file_extension": ".py",
   "mimetype": "text/x-python",
   "name": "python",
   "nbconvert_exporter": "python",
   "pygments_lexer": "ipython3",
   "version": "3.8.5"
  }
 },
 "nbformat": 4,
 "nbformat_minor": 2
}
